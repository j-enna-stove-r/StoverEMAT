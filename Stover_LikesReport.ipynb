{
 "cells": [
  {
   "cell_type": "markdown",
   "id": "c56d0dcf-c25c-4f2b-b1f9-d6e72e6df09e",
   "metadata": {},
   "source": [
    "# likes report\n",
    "## jenna stover\n",
    "## september 14, 2025\n",
    "### /Users/jenna/Desktop/instagram-jennastover-2025-08-25-Z3BhFak8/your_instagram_activity/likes/liked_posts.json "
   ]
  },
  {
   "cell_type": "markdown",
   "id": "bcc0c7a4-397f-4b4f-9a34-39b768475f78",
   "metadata": {},
   "source": [
    "## section 1\n",
    "questions about data\n",
    "The data is my Instagram data and it is an accumulation of what I have interacted with over the course of the years that I have had it. This data was created from what I have liked, commented, looked up, and overall, interacted with. This data can show all of the interactions I have had within the app. This data can be reliable as it is a collection of what I have done on the app. This data can be unreliable because of algorithm changes."
   ]
  },
  {
   "cell_type": "markdown",
   "id": "3563d044-3d24-4219-b0a3-f91327e00627",
   "metadata": {},
   "source": [
    "## section 2\n",
    "open and load the json file"
   ]
  },
  {
   "cell_type": "code",
   "execution_count": 3,
   "id": "28fc52f6-b69e-4353-9de3-c5c5e21fc066",
   "metadata": {},
   "outputs": [],
   "source": [
    "# these are the imports we need\n",
    "import json\n",
    "import pandas as pd\n",
    "import matplotlib as plt"
   ]
  },
  {
   "cell_type": "code",
   "execution_count": 5,
   "id": "2736c247-a02f-4cf7-b038-3d8ddfbed28e",
   "metadata": {},
   "outputs": [],
   "source": [
    "path = r\"/Users/jenna/Desktop/instagram-jennastover-2025-08-25-Z3BhFak8/your_instagram_activity/likes/liked_posts.json\"\n",
    "with open(path) as l:\n",
    "    dict = json.load(l)"
   ]
  },
  {
   "cell_type": "markdown",
   "id": "12cae454-70e0-4b8d-bcb4-05b63087f289",
   "metadata": {},
   "source": [
    "## section 3\n",
    "convert the data into dataframe object and assign it to a new varaible using pandas dataframe function"
   ]
  },
  {
   "cell_type": "code",
   "execution_count": 6,
   "id": "e0dbd89e-d35a-4933-8d98-8811ac7f2cb8",
   "metadata": {},
   "outputs": [
    {
     "data": {
      "text/html": [
       "<div>\n",
       "<style scoped>\n",
       "    .dataframe tbody tr th:only-of-type {\n",
       "        vertical-align: middle;\n",
       "    }\n",
       "\n",
       "    .dataframe tbody tr th {\n",
       "        vertical-align: top;\n",
       "    }\n",
       "\n",
       "    .dataframe thead th {\n",
       "        text-align: right;\n",
       "    }\n",
       "</style>\n",
       "<table border=\"1\" class=\"dataframe\">\n",
       "  <thead>\n",
       "    <tr style=\"text-align: right;\">\n",
       "      <th></th>\n",
       "      <th>likes_media_likes</th>\n",
       "    </tr>\n",
       "  </thead>\n",
       "  <tbody>\n",
       "    <tr>\n",
       "      <th>0</th>\n",
       "      <td>{'title': 'tastebud', 'string_list_data': [{'h...</td>\n",
       "    </tr>\n",
       "    <tr>\n",
       "      <th>1</th>\n",
       "      <td>{'title': 'baileyyfair', 'string_list_data': [...</td>\n",
       "    </tr>\n",
       "    <tr>\n",
       "      <th>2</th>\n",
       "      <td>{'title': 'beatboxbeverages', 'string_list_dat...</td>\n",
       "    </tr>\n",
       "    <tr>\n",
       "      <th>3</th>\n",
       "      <td>{'title': 'pinkwhitney', 'string_list_data': [...</td>\n",
       "    </tr>\n",
       "    <tr>\n",
       "      <th>4</th>\n",
       "      <td>{'title': 'marybethbarone', 'string_list_data'...</td>\n",
       "    </tr>\n",
       "  </tbody>\n",
       "</table>\n",
       "</div>"
      ],
      "text/plain": [
       "                                   likes_media_likes\n",
       "0  {'title': 'tastebud', 'string_list_data': [{'h...\n",
       "1  {'title': 'baileyyfair', 'string_list_data': [...\n",
       "2  {'title': 'beatboxbeverages', 'string_list_dat...\n",
       "3  {'title': 'pinkwhitney', 'string_list_data': [...\n",
       "4  {'title': 'marybethbarone', 'string_list_data'..."
      ]
     },
     "execution_count": 6,
     "metadata": {},
     "output_type": "execute_result"
    }
   ],
   "source": [
    "df = pd.DataFrame(dict)\n",
    "df.head()"
   ]
  },
  {
   "cell_type": "code",
   "execution_count": 7,
   "id": "169d1c47-ab38-49a4-952d-baec243d7249",
   "metadata": {},
   "outputs": [
    {
     "data": {
      "text/plain": [
       "dict_keys(['likes_media_likes'])"
      ]
     },
     "execution_count": 7,
     "metadata": {},
     "output_type": "execute_result"
    }
   ],
   "source": [
    "dict.keys()"
   ]
  },
  {
   "cell_type": "code",
   "execution_count": 8,
   "id": "8f94e477-1003-4847-a990-83caf9201ec0",
   "metadata": {},
   "outputs": [
    {
     "data": {
      "text/html": [
       "<div>\n",
       "<style scoped>\n",
       "    .dataframe tbody tr th:only-of-type {\n",
       "        vertical-align: middle;\n",
       "    }\n",
       "\n",
       "    .dataframe tbody tr th {\n",
       "        vertical-align: top;\n",
       "    }\n",
       "\n",
       "    .dataframe thead th {\n",
       "        text-align: right;\n",
       "    }\n",
       "</style>\n",
       "<table border=\"1\" class=\"dataframe\">\n",
       "  <thead>\n",
       "    <tr style=\"text-align: right;\">\n",
       "      <th></th>\n",
       "      <th>title</th>\n",
       "      <th>string_list_data</th>\n",
       "    </tr>\n",
       "  </thead>\n",
       "  <tbody>\n",
       "    <tr>\n",
       "      <th>0</th>\n",
       "      <td>tastebud</td>\n",
       "      <td>[{'href': 'https://www.instagram.com/p/DNW6WUH...</td>\n",
       "    </tr>\n",
       "    <tr>\n",
       "      <th>1</th>\n",
       "      <td>baileyyfair</td>\n",
       "      <td>[{'href': 'https://www.instagram.com/p/DNwwf9g...</td>\n",
       "    </tr>\n",
       "    <tr>\n",
       "      <th>2</th>\n",
       "      <td>beatboxbeverages</td>\n",
       "      <td>[{'href': 'https://www.instagram.com/reel/DNWE...</td>\n",
       "    </tr>\n",
       "    <tr>\n",
       "      <th>3</th>\n",
       "      <td>pinkwhitney</td>\n",
       "      <td>[{'href': 'https://www.instagram.com/p/DNwUd49...</td>\n",
       "    </tr>\n",
       "    <tr>\n",
       "      <th>4</th>\n",
       "      <td>marybethbarone</td>\n",
       "      <td>[{'href': 'https://www.instagram.com/reel/DKNM...</td>\n",
       "    </tr>\n",
       "  </tbody>\n",
       "</table>\n",
       "</div>"
      ],
      "text/plain": [
       "              title                                   string_list_data\n",
       "0          tastebud  [{'href': 'https://www.instagram.com/p/DNW6WUH...\n",
       "1       baileyyfair  [{'href': 'https://www.instagram.com/p/DNwwf9g...\n",
       "2  beatboxbeverages  [{'href': 'https://www.instagram.com/reel/DNWE...\n",
       "3       pinkwhitney  [{'href': 'https://www.instagram.com/p/DNwUd49...\n",
       "4    marybethbarone  [{'href': 'https://www.instagram.com/reel/DKNM..."
      ]
     },
     "execution_count": 8,
     "metadata": {},
     "output_type": "execute_result"
    }
   ],
   "source": [
    "df_tidy = pd.DataFrame(dict['likes_media_likes'])\n",
    "df_tidy.head()"
   ]
  },
  {
   "cell_type": "markdown",
   "id": "f85e407c-8be0-46a8-bcb2-bd947d065672",
   "metadata": {},
   "source": [
    "## section 4"
   ]
  },
  {
   "cell_type": "code",
   "execution_count": 10,
   "id": "e7d9542e-aa44-4e19-92b6-af4c42f48790",
   "metadata": {},
   "outputs": [
    {
     "data": {
      "text/plain": [
       "[{'href': 'https://www.instagram.com/p/DNW6WUHxWEd/',\n",
       "  'value': 'ð\\x9f\\x91\\x8d',\n",
       "  'timestamp': 1756098509}]"
      ]
     },
     "execution_count": 10,
     "metadata": {},
     "output_type": "execute_result"
    }
   ],
   "source": [
    "df_tidy['string_list_data'].iloc[0]"
   ]
  },
  {
   "cell_type": "code",
   "execution_count": 12,
   "id": "63d482a3-76fd-49e5-a2a5-16338f6a0e0f",
   "metadata": {},
   "outputs": [
    {
     "data": {
      "text/plain": [
       "list"
      ]
     },
     "execution_count": 12,
     "metadata": {},
     "output_type": "execute_result"
    }
   ],
   "source": [
    "type(df_tidy['string_list_data'].iloc[0])"
   ]
  },
  {
   "cell_type": "code",
   "execution_count": 17,
   "id": "bed6d067-73c4-4326-8a53-e2923ad1a74e",
   "metadata": {},
   "outputs": [
    {
     "data": {
      "text/plain": [
       "1"
      ]
     },
     "execution_count": 17,
     "metadata": {},
     "output_type": "execute_result"
    }
   ],
   "source": [
    "len(df_tidy['string_list_data'].iloc[0])"
   ]
  },
  {
   "cell_type": "code",
   "execution_count": 15,
   "id": "fc3c55e7-0e39-4986-8f11-a1b4bac5878b",
   "metadata": {},
   "outputs": [
    {
     "data": {
      "text/plain": [
       "{'href': 'https://www.instagram.com/p/DNW6WUHxWEd/',\n",
       " 'value': 'ð\\x9f\\x91\\x8d',\n",
       " 'timestamp': 1756098509}"
      ]
     },
     "execution_count": 15,
     "metadata": {},
     "output_type": "execute_result"
    }
   ],
   "source": [
    "df_tidy['string_list_data'].iloc[0][0]"
   ]
  },
  {
   "cell_type": "code",
   "execution_count": 16,
   "id": "49e99d1e-542f-483d-b6a5-4403d074650a",
   "metadata": {},
   "outputs": [
    {
     "data": {
      "text/plain": [
       "1756098509"
      ]
     },
     "execution_count": 16,
     "metadata": {},
     "output_type": "execute_result"
    }
   ],
   "source": [
    "df_tidy['string_list_data'].iloc[0][0]['timestamp']"
   ]
  },
  {
   "cell_type": "code",
   "execution_count": 23,
   "id": "ef0cb2c4-8932-4360-af2f-85dc9cd3aed6",
   "metadata": {},
   "outputs": [
    {
     "data": {
      "text/html": [
       "<div>\n",
       "<style scoped>\n",
       "    .dataframe tbody tr th:only-of-type {\n",
       "        vertical-align: middle;\n",
       "    }\n",
       "\n",
       "    .dataframe tbody tr th {\n",
       "        vertical-align: top;\n",
       "    }\n",
       "\n",
       "    .dataframe thead th {\n",
       "        text-align: right;\n",
       "    }\n",
       "</style>\n",
       "<table border=\"1\" class=\"dataframe\">\n",
       "  <thead>\n",
       "    <tr style=\"text-align: right;\">\n",
       "      <th></th>\n",
       "      <th>title</th>\n",
       "      <th>string_list_data</th>\n",
       "      <th>Time of Like</th>\n",
       "    </tr>\n",
       "  </thead>\n",
       "  <tbody>\n",
       "    <tr>\n",
       "      <th>0</th>\n",
       "      <td>tastebud</td>\n",
       "      <td>[{'href': 'https://www.instagram.com/p/DNW6WUH...</td>\n",
       "      <td>{'href': 'https://www.instagram.com/p/DNW6WUHx...</td>\n",
       "    </tr>\n",
       "    <tr>\n",
       "      <th>1</th>\n",
       "      <td>baileyyfair</td>\n",
       "      <td>[{'href': 'https://www.instagram.com/p/DNwwf9g...</td>\n",
       "      <td>{'href': 'https://www.instagram.com/p/DNwwf9gW...</td>\n",
       "    </tr>\n",
       "    <tr>\n",
       "      <th>2</th>\n",
       "      <td>beatboxbeverages</td>\n",
       "      <td>[{'href': 'https://www.instagram.com/reel/DNWE...</td>\n",
       "      <td>{'href': 'https://www.instagram.com/reel/DNWEX...</td>\n",
       "    </tr>\n",
       "    <tr>\n",
       "      <th>3</th>\n",
       "      <td>pinkwhitney</td>\n",
       "      <td>[{'href': 'https://www.instagram.com/p/DNwUd49...</td>\n",
       "      <td>{'href': 'https://www.instagram.com/p/DNwUd49Q...</td>\n",
       "    </tr>\n",
       "    <tr>\n",
       "      <th>4</th>\n",
       "      <td>marybethbarone</td>\n",
       "      <td>[{'href': 'https://www.instagram.com/reel/DKNM...</td>\n",
       "      <td>{'href': 'https://www.instagram.com/reel/DKNMM...</td>\n",
       "    </tr>\n",
       "  </tbody>\n",
       "</table>\n",
       "</div>"
      ],
      "text/plain": [
       "              title                                   string_list_data  \\\n",
       "0          tastebud  [{'href': 'https://www.instagram.com/p/DNW6WUH...   \n",
       "1       baileyyfair  [{'href': 'https://www.instagram.com/p/DNwwf9g...   \n",
       "2  beatboxbeverages  [{'href': 'https://www.instagram.com/reel/DNWE...   \n",
       "3       pinkwhitney  [{'href': 'https://www.instagram.com/p/DNwUd49...   \n",
       "4    marybethbarone  [{'href': 'https://www.instagram.com/reel/DKNM...   \n",
       "\n",
       "                                        Time of Like  \n",
       "0  {'href': 'https://www.instagram.com/p/DNW6WUHx...  \n",
       "1  {'href': 'https://www.instagram.com/p/DNwwf9gW...  \n",
       "2  {'href': 'https://www.instagram.com/reel/DNWEX...  \n",
       "3  {'href': 'https://www.instagram.com/p/DNwUd49Q...  \n",
       "4  {'href': 'https://www.instagram.com/reel/DKNMM...  "
      ]
     },
     "execution_count": 23,
     "metadata": {},
     "output_type": "execute_result"
    }
   ],
   "source": [
    "df_tidy['Time of Like'] = [ i[0] for i in df_tidy['string_list_data']]\n",
    "\n",
    "df_tidy.head()"
   ]
  },
  {
   "cell_type": "code",
   "execution_count": 31,
   "id": "107824cc-c2a2-4e87-a4bd-8913ffb54167",
   "metadata": {},
   "outputs": [],
   "source": [
    "# good to have\n",
    "from datetime import datetime\n",
    "df_tidy['Date of Like'] = [ datetime.fromtimestamp (i[0] ['timestamp']) for i in df_tidy['string_list_data']]"
   ]
  },
  {
   "cell_type": "code",
   "execution_count": 32,
   "id": "ddd5852c-7e69-478a-a531-4943f501ecba",
   "metadata": {},
   "outputs": [
    {
     "data": {
      "text/html": [
       "<div>\n",
       "<style scoped>\n",
       "    .dataframe tbody tr th:only-of-type {\n",
       "        vertical-align: middle;\n",
       "    }\n",
       "\n",
       "    .dataframe tbody tr th {\n",
       "        vertical-align: top;\n",
       "    }\n",
       "\n",
       "    .dataframe thead th {\n",
       "        text-align: right;\n",
       "    }\n",
       "</style>\n",
       "<table border=\"1\" class=\"dataframe\">\n",
       "  <thead>\n",
       "    <tr style=\"text-align: right;\">\n",
       "      <th></th>\n",
       "      <th>title</th>\n",
       "      <th>string_list_data</th>\n",
       "      <th>Time of Like</th>\n",
       "      <th>Date of Like</th>\n",
       "    </tr>\n",
       "  </thead>\n",
       "  <tbody>\n",
       "    <tr>\n",
       "      <th>0</th>\n",
       "      <td>tastebud</td>\n",
       "      <td>[{'href': 'https://www.instagram.com/p/DNW6WUH...</td>\n",
       "      <td>{'href': 'https://www.instagram.com/p/DNW6WUHx...</td>\n",
       "      <td>2025-08-25 01:08:29</td>\n",
       "    </tr>\n",
       "    <tr>\n",
       "      <th>1</th>\n",
       "      <td>baileyyfair</td>\n",
       "      <td>[{'href': 'https://www.instagram.com/p/DNwwf9g...</td>\n",
       "      <td>{'href': 'https://www.instagram.com/p/DNwwf9gW...</td>\n",
       "      <td>2025-08-25 01:07:49</td>\n",
       "    </tr>\n",
       "    <tr>\n",
       "      <th>2</th>\n",
       "      <td>beatboxbeverages</td>\n",
       "      <td>[{'href': 'https://www.instagram.com/reel/DNWE...</td>\n",
       "      <td>{'href': 'https://www.instagram.com/reel/DNWEX...</td>\n",
       "      <td>2025-08-24 22:42:00</td>\n",
       "    </tr>\n",
       "    <tr>\n",
       "      <th>3</th>\n",
       "      <td>pinkwhitney</td>\n",
       "      <td>[{'href': 'https://www.instagram.com/p/DNwUd49...</td>\n",
       "      <td>{'href': 'https://www.instagram.com/p/DNwUd49Q...</td>\n",
       "      <td>2025-08-24 22:41:55</td>\n",
       "    </tr>\n",
       "    <tr>\n",
       "      <th>4</th>\n",
       "      <td>marybethbarone</td>\n",
       "      <td>[{'href': 'https://www.instagram.com/reel/DKNM...</td>\n",
       "      <td>{'href': 'https://www.instagram.com/reel/DKNMM...</td>\n",
       "      <td>2025-08-24 22:41:38</td>\n",
       "    </tr>\n",
       "  </tbody>\n",
       "</table>\n",
       "</div>"
      ],
      "text/plain": [
       "              title                                   string_list_data  \\\n",
       "0          tastebud  [{'href': 'https://www.instagram.com/p/DNW6WUH...   \n",
       "1       baileyyfair  [{'href': 'https://www.instagram.com/p/DNwwf9g...   \n",
       "2  beatboxbeverages  [{'href': 'https://www.instagram.com/reel/DNWE...   \n",
       "3       pinkwhitney  [{'href': 'https://www.instagram.com/p/DNwUd49...   \n",
       "4    marybethbarone  [{'href': 'https://www.instagram.com/reel/DKNM...   \n",
       "\n",
       "                                        Time of Like        Date of Like  \n",
       "0  {'href': 'https://www.instagram.com/p/DNW6WUHx... 2025-08-25 01:08:29  \n",
       "1  {'href': 'https://www.instagram.com/p/DNwwf9gW... 2025-08-25 01:07:49  \n",
       "2  {'href': 'https://www.instagram.com/reel/DNWEX... 2025-08-24 22:42:00  \n",
       "3  {'href': 'https://www.instagram.com/p/DNwUd49Q... 2025-08-24 22:41:55  \n",
       "4  {'href': 'https://www.instagram.com/reel/DKNMM... 2025-08-24 22:41:38  "
      ]
     },
     "execution_count": 32,
     "metadata": {},
     "output_type": "execute_result"
    }
   ],
   "source": [
    "df_tidy.head()"
   ]
  },
  {
   "cell_type": "code",
   "execution_count": 35,
   "id": "72acfe9f-f65d-4cee-9030-1f03f57d85b8",
   "metadata": {},
   "outputs": [
    {
     "data": {
      "text/html": [
       "<div>\n",
       "<style scoped>\n",
       "    .dataframe tbody tr th:only-of-type {\n",
       "        vertical-align: middle;\n",
       "    }\n",
       "\n",
       "    .dataframe tbody tr th {\n",
       "        vertical-align: top;\n",
       "    }\n",
       "\n",
       "    .dataframe thead th {\n",
       "        text-align: right;\n",
       "    }\n",
       "</style>\n",
       "<table border=\"1\" class=\"dataframe\">\n",
       "  <thead>\n",
       "    <tr style=\"text-align: right;\">\n",
       "      <th></th>\n",
       "      <th>title</th>\n",
       "      <th>string_list_data</th>\n",
       "      <th>Time of Like</th>\n",
       "      <th>Date of Like</th>\n",
       "      <th>href</th>\n",
       "    </tr>\n",
       "  </thead>\n",
       "  <tbody>\n",
       "    <tr>\n",
       "      <th>0</th>\n",
       "      <td>tastebud</td>\n",
       "      <td>[{'href': 'https://www.instagram.com/p/DNW6WUH...</td>\n",
       "      <td>{'href': 'https://www.instagram.com/p/DNW6WUHx...</td>\n",
       "      <td>2025-08-25 01:08:29</td>\n",
       "      <td>https://www.instagram.com/p/DNW6WUHxWEd/</td>\n",
       "    </tr>\n",
       "    <tr>\n",
       "      <th>1</th>\n",
       "      <td>baileyyfair</td>\n",
       "      <td>[{'href': 'https://www.instagram.com/p/DNwwf9g...</td>\n",
       "      <td>{'href': 'https://www.instagram.com/p/DNwwf9gW...</td>\n",
       "      <td>2025-08-25 01:07:49</td>\n",
       "      <td>https://www.instagram.com/p/DNwwf9gWJD8/</td>\n",
       "    </tr>\n",
       "    <tr>\n",
       "      <th>2</th>\n",
       "      <td>beatboxbeverages</td>\n",
       "      <td>[{'href': 'https://www.instagram.com/reel/DNWE...</td>\n",
       "      <td>{'href': 'https://www.instagram.com/reel/DNWEX...</td>\n",
       "      <td>2025-08-24 22:42:00</td>\n",
       "      <td>https://www.instagram.com/reel/DNWEXXZpXFQ/</td>\n",
       "    </tr>\n",
       "    <tr>\n",
       "      <th>3</th>\n",
       "      <td>pinkwhitney</td>\n",
       "      <td>[{'href': 'https://www.instagram.com/p/DNwUd49...</td>\n",
       "      <td>{'href': 'https://www.instagram.com/p/DNwUd49Q...</td>\n",
       "      <td>2025-08-24 22:41:55</td>\n",
       "      <td>https://www.instagram.com/p/DNwUd49QipF/</td>\n",
       "    </tr>\n",
       "    <tr>\n",
       "      <th>4</th>\n",
       "      <td>marybethbarone</td>\n",
       "      <td>[{'href': 'https://www.instagram.com/reel/DKNM...</td>\n",
       "      <td>{'href': 'https://www.instagram.com/reel/DKNMM...</td>\n",
       "      <td>2025-08-24 22:41:38</td>\n",
       "      <td>https://www.instagram.com/reel/DKNMMZMps3O/</td>\n",
       "    </tr>\n",
       "  </tbody>\n",
       "</table>\n",
       "</div>"
      ],
      "text/plain": [
       "              title                                   string_list_data  \\\n",
       "0          tastebud  [{'href': 'https://www.instagram.com/p/DNW6WUH...   \n",
       "1       baileyyfair  [{'href': 'https://www.instagram.com/p/DNwwf9g...   \n",
       "2  beatboxbeverages  [{'href': 'https://www.instagram.com/reel/DNWE...   \n",
       "3       pinkwhitney  [{'href': 'https://www.instagram.com/p/DNwUd49...   \n",
       "4    marybethbarone  [{'href': 'https://www.instagram.com/reel/DKNM...   \n",
       "\n",
       "                                        Time of Like        Date of Like  \\\n",
       "0  {'href': 'https://www.instagram.com/p/DNW6WUHx... 2025-08-25 01:08:29   \n",
       "1  {'href': 'https://www.instagram.com/p/DNwwf9gW... 2025-08-25 01:07:49   \n",
       "2  {'href': 'https://www.instagram.com/reel/DNWEX... 2025-08-24 22:42:00   \n",
       "3  {'href': 'https://www.instagram.com/p/DNwUd49Q... 2025-08-24 22:41:55   \n",
       "4  {'href': 'https://www.instagram.com/reel/DKNMM... 2025-08-24 22:41:38   \n",
       "\n",
       "                                          href  \n",
       "0     https://www.instagram.com/p/DNW6WUHxWEd/  \n",
       "1     https://www.instagram.com/p/DNwwf9gWJD8/  \n",
       "2  https://www.instagram.com/reel/DNWEXXZpXFQ/  \n",
       "3     https://www.instagram.com/p/DNwUd49QipF/  \n",
       "4  https://www.instagram.com/reel/DKNMMZMps3O/  "
      ]
     },
     "execution_count": 35,
     "metadata": {},
     "output_type": "execute_result"
    }
   ],
   "source": [
    "df_tidy['href'] = [i[0] ['href'] for i in df_tidy['string_list_data']]\n",
    "df_tidy.head()"
   ]
  },
  {
   "cell_type": "code",
   "execution_count": 36,
   "id": "bcaaf322-ce7e-4396-9ea4-0d1dd47d1dd9",
   "metadata": {},
   "outputs": [
    {
     "data": {
      "text/html": [
       "<div>\n",
       "<style scoped>\n",
       "    .dataframe tbody tr th:only-of-type {\n",
       "        vertical-align: middle;\n",
       "    }\n",
       "\n",
       "    .dataframe tbody tr th {\n",
       "        vertical-align: top;\n",
       "    }\n",
       "\n",
       "    .dataframe thead th {\n",
       "        text-align: right;\n",
       "    }\n",
       "</style>\n",
       "<table border=\"1\" class=\"dataframe\">\n",
       "  <thead>\n",
       "    <tr style=\"text-align: right;\">\n",
       "      <th></th>\n",
       "      <th>title</th>\n",
       "      <th>Time of Like</th>\n",
       "      <th>Date of Like</th>\n",
       "      <th>href</th>\n",
       "    </tr>\n",
       "  </thead>\n",
       "  <tbody>\n",
       "    <tr>\n",
       "      <th>0</th>\n",
       "      <td>tastebud</td>\n",
       "      <td>{'href': 'https://www.instagram.com/p/DNW6WUHx...</td>\n",
       "      <td>2025-08-25 01:08:29</td>\n",
       "      <td>https://www.instagram.com/p/DNW6WUHxWEd/</td>\n",
       "    </tr>\n",
       "    <tr>\n",
       "      <th>1</th>\n",
       "      <td>baileyyfair</td>\n",
       "      <td>{'href': 'https://www.instagram.com/p/DNwwf9gW...</td>\n",
       "      <td>2025-08-25 01:07:49</td>\n",
       "      <td>https://www.instagram.com/p/DNwwf9gWJD8/</td>\n",
       "    </tr>\n",
       "    <tr>\n",
       "      <th>2</th>\n",
       "      <td>beatboxbeverages</td>\n",
       "      <td>{'href': 'https://www.instagram.com/reel/DNWEX...</td>\n",
       "      <td>2025-08-24 22:42:00</td>\n",
       "      <td>https://www.instagram.com/reel/DNWEXXZpXFQ/</td>\n",
       "    </tr>\n",
       "    <tr>\n",
       "      <th>3</th>\n",
       "      <td>pinkwhitney</td>\n",
       "      <td>{'href': 'https://www.instagram.com/p/DNwUd49Q...</td>\n",
       "      <td>2025-08-24 22:41:55</td>\n",
       "      <td>https://www.instagram.com/p/DNwUd49QipF/</td>\n",
       "    </tr>\n",
       "    <tr>\n",
       "      <th>4</th>\n",
       "      <td>marybethbarone</td>\n",
       "      <td>{'href': 'https://www.instagram.com/reel/DKNMM...</td>\n",
       "      <td>2025-08-24 22:41:38</td>\n",
       "      <td>https://www.instagram.com/reel/DKNMMZMps3O/</td>\n",
       "    </tr>\n",
       "    <tr>\n",
       "      <th>...</th>\n",
       "      <td>...</td>\n",
       "      <td>...</td>\n",
       "      <td>...</td>\n",
       "      <td>...</td>\n",
       "    </tr>\n",
       "    <tr>\n",
       "      <th>4189</th>\n",
       "      <td>vancityreynolds</td>\n",
       "      <td>{'href': 'https://www.instagram.com/p/C_EPSDeR...</td>\n",
       "      <td>2024-08-25 17:22:13</td>\n",
       "      <td>https://www.instagram.com/p/C_EPSDeRpyF/</td>\n",
       "    </tr>\n",
       "    <tr>\n",
       "      <th>4190</th>\n",
       "      <td>florencepugh</td>\n",
       "      <td>{'href': 'https://www.instagram.com/p/C_GWE6KI...</td>\n",
       "      <td>2024-08-25 17:15:36</td>\n",
       "      <td>https://www.instagram.com/p/C_GWE6KIl3t/</td>\n",
       "    </tr>\n",
       "    <tr>\n",
       "      <th>4191</th>\n",
       "      <td>nicolelaeno</td>\n",
       "      <td>{'href': 'https://www.instagram.com/p/C_GaJkpv...</td>\n",
       "      <td>2024-08-25 17:07:23</td>\n",
       "      <td>https://www.instagram.com/p/C_GaJkpv_Gi/</td>\n",
       "    </tr>\n",
       "    <tr>\n",
       "      <th>4192</th>\n",
       "      <td>disneyplus</td>\n",
       "      <td>{'href': 'https://www.instagram.com/p/C_BWG4LP...</td>\n",
       "      <td>2024-08-25 17:07:17</td>\n",
       "      <td>https://www.instagram.com/p/C_BWG4LPGKA/</td>\n",
       "    </tr>\n",
       "    <tr>\n",
       "      <th>4193</th>\n",
       "      <td>hannahvanhonsebrouck</td>\n",
       "      <td>{'href': 'https://www.instagram.com/p/C_GqrdeS...</td>\n",
       "      <td>2024-08-25 15:47:52</td>\n",
       "      <td>https://www.instagram.com/p/C_GqrdeSZzs/</td>\n",
       "    </tr>\n",
       "  </tbody>\n",
       "</table>\n",
       "<p>4194 rows × 4 columns</p>\n",
       "</div>"
      ],
      "text/plain": [
       "                     title                                       Time of Like  \\\n",
       "0                 tastebud  {'href': 'https://www.instagram.com/p/DNW6WUHx...   \n",
       "1              baileyyfair  {'href': 'https://www.instagram.com/p/DNwwf9gW...   \n",
       "2         beatboxbeverages  {'href': 'https://www.instagram.com/reel/DNWEX...   \n",
       "3              pinkwhitney  {'href': 'https://www.instagram.com/p/DNwUd49Q...   \n",
       "4           marybethbarone  {'href': 'https://www.instagram.com/reel/DKNMM...   \n",
       "...                    ...                                                ...   \n",
       "4189       vancityreynolds  {'href': 'https://www.instagram.com/p/C_EPSDeR...   \n",
       "4190          florencepugh  {'href': 'https://www.instagram.com/p/C_GWE6KI...   \n",
       "4191           nicolelaeno  {'href': 'https://www.instagram.com/p/C_GaJkpv...   \n",
       "4192            disneyplus  {'href': 'https://www.instagram.com/p/C_BWG4LP...   \n",
       "4193  hannahvanhonsebrouck  {'href': 'https://www.instagram.com/p/C_GqrdeS...   \n",
       "\n",
       "            Date of Like                                         href  \n",
       "0    2025-08-25 01:08:29     https://www.instagram.com/p/DNW6WUHxWEd/  \n",
       "1    2025-08-25 01:07:49     https://www.instagram.com/p/DNwwf9gWJD8/  \n",
       "2    2025-08-24 22:42:00  https://www.instagram.com/reel/DNWEXXZpXFQ/  \n",
       "3    2025-08-24 22:41:55     https://www.instagram.com/p/DNwUd49QipF/  \n",
       "4    2025-08-24 22:41:38  https://www.instagram.com/reel/DKNMMZMps3O/  \n",
       "...                  ...                                          ...  \n",
       "4189 2024-08-25 17:22:13     https://www.instagram.com/p/C_EPSDeRpyF/  \n",
       "4190 2024-08-25 17:15:36     https://www.instagram.com/p/C_GWE6KIl3t/  \n",
       "4191 2024-08-25 17:07:23     https://www.instagram.com/p/C_GaJkpv_Gi/  \n",
       "4192 2024-08-25 17:07:17     https://www.instagram.com/p/C_BWG4LPGKA/  \n",
       "4193 2024-08-25 15:47:52     https://www.instagram.com/p/C_GqrdeSZzs/  \n",
       "\n",
       "[4194 rows x 4 columns]"
      ]
     },
     "execution_count": 36,
     "metadata": {},
     "output_type": "execute_result"
    }
   ],
   "source": [
    "df_tidy.drop(columns = ['string_list_data'])"
   ]
  },
  {
   "cell_type": "markdown",
   "id": "82b83753-f19f-4275-8b9c-e409217103d4",
   "metadata": {},
   "source": [
    "## section 5"
   ]
  },
  {
   "cell_type": "code",
   "execution_count": 38,
   "id": "228a55a4-ff07-4584-bf8b-4a53a69af35a",
   "metadata": {},
   "outputs": [
    {
     "data": {
      "text/html": [
       "<div>\n",
       "<style scoped>\n",
       "    .dataframe tbody tr th:only-of-type {\n",
       "        vertical-align: middle;\n",
       "    }\n",
       "\n",
       "    .dataframe tbody tr th {\n",
       "        vertical-align: top;\n",
       "    }\n",
       "\n",
       "    .dataframe thead th {\n",
       "        text-align: right;\n",
       "    }\n",
       "</style>\n",
       "<table border=\"1\" class=\"dataframe\">\n",
       "  <thead>\n",
       "    <tr style=\"text-align: right;\">\n",
       "      <th></th>\n",
       "      <th>string_list_data</th>\n",
       "      <th>Time of Like</th>\n",
       "      <th>Date of Like</th>\n",
       "      <th>href</th>\n",
       "    </tr>\n",
       "    <tr>\n",
       "      <th>title</th>\n",
       "      <th></th>\n",
       "      <th></th>\n",
       "      <th></th>\n",
       "      <th></th>\n",
       "    </tr>\n",
       "  </thead>\n",
       "  <tbody>\n",
       "    <tr>\n",
       "      <th>dailynicholasalexanderchavez</th>\n",
       "      <td>255</td>\n",
       "      <td>255</td>\n",
       "      <td>255</td>\n",
       "      <td>255</td>\n",
       "    </tr>\n",
       "    <tr>\n",
       "      <th>pubity</th>\n",
       "      <td>120</td>\n",
       "      <td>120</td>\n",
       "      <td>120</td>\n",
       "      <td>120</td>\n",
       "    </tr>\n",
       "    <tr>\n",
       "      <th>cooprkoch</th>\n",
       "      <td>69</td>\n",
       "      <td>69</td>\n",
       "      <td>69</td>\n",
       "      <td>69</td>\n",
       "    </tr>\n",
       "    <tr>\n",
       "      <th>bestofnicholaschavez</th>\n",
       "      <td>69</td>\n",
       "      <td>69</td>\n",
       "      <td>69</td>\n",
       "      <td>69</td>\n",
       "    </tr>\n",
       "    <tr>\n",
       "      <th>_cooper_koch_</th>\n",
       "      <td>62</td>\n",
       "      <td>62</td>\n",
       "      <td>62</td>\n",
       "      <td>62</td>\n",
       "    </tr>\n",
       "    <tr>\n",
       "      <th>...</th>\n",
       "      <td>...</td>\n",
       "      <td>...</td>\n",
       "      <td>...</td>\n",
       "      <td>...</td>\n",
       "    </tr>\n",
       "    <tr>\n",
       "      <th>iloveeshelf</th>\n",
       "      <td>1</td>\n",
       "      <td>1</td>\n",
       "      <td>1</td>\n",
       "      <td>1</td>\n",
       "    </tr>\n",
       "    <tr>\n",
       "      <th>ilytweet</th>\n",
       "      <td>1</td>\n",
       "      <td>1</td>\n",
       "      <td>1</td>\n",
       "      <td>1</td>\n",
       "    </tr>\n",
       "    <tr>\n",
       "      <th>im_leoc</th>\n",
       "      <td>1</td>\n",
       "      <td>1</td>\n",
       "      <td>1</td>\n",
       "      <td>1</td>\n",
       "    </tr>\n",
       "    <tr>\n",
       "      <th>imagine_a_magazine</th>\n",
       "      <td>1</td>\n",
       "      <td>1</td>\n",
       "      <td>1</td>\n",
       "      <td>1</td>\n",
       "    </tr>\n",
       "    <tr>\n",
       "      <th>zspongeb0bb</th>\n",
       "      <td>1</td>\n",
       "      <td>1</td>\n",
       "      <td>1</td>\n",
       "      <td>1</td>\n",
       "    </tr>\n",
       "  </tbody>\n",
       "</table>\n",
       "<p>1100 rows × 4 columns</p>\n",
       "</div>"
      ],
      "text/plain": [
       "                              string_list_data  Time of Like  Date of Like  \\\n",
       "title                                                                        \n",
       "dailynicholasalexanderchavez               255           255           255   \n",
       "pubity                                     120           120           120   \n",
       "cooprkoch                                   69            69            69   \n",
       "bestofnicholaschavez                        69            69            69   \n",
       "_cooper_koch_                               62            62            62   \n",
       "...                                        ...           ...           ...   \n",
       "iloveeshelf                                  1             1             1   \n",
       "ilytweet                                     1             1             1   \n",
       "im_leoc                                      1             1             1   \n",
       "imagine_a_magazine                           1             1             1   \n",
       "zspongeb0bb                                  1             1             1   \n",
       "\n",
       "                              href  \n",
       "title                               \n",
       "dailynicholasalexanderchavez   255  \n",
       "pubity                         120  \n",
       "cooprkoch                       69  \n",
       "bestofnicholaschavez            69  \n",
       "_cooper_koch_                   62  \n",
       "...                            ...  \n",
       "iloveeshelf                      1  \n",
       "ilytweet                         1  \n",
       "im_leoc                          1  \n",
       "imagine_a_magazine               1  \n",
       "zspongeb0bb                      1  \n",
       "\n",
       "[1100 rows x 4 columns]"
      ]
     },
     "execution_count": 38,
     "metadata": {},
     "output_type": "execute_result"
    }
   ],
   "source": [
    "df_tidy.groupby('title').count().sort_values('Time of Like', ascending = False)"
   ]
  },
  {
   "cell_type": "markdown",
   "id": "b2705e3a-21e6-461a-8c6c-aab38df018cc",
   "metadata": {},
   "source": [
    "## section 6\n",
    "I comment on Instagram posts more in the afternoon than in the morning. I expect this outcome because people usually post on instagram in the afternoon or evening rather than in the morning. I personally usually post in the evening/ afternoon more than the morning so I believe that other people do that too. I have helped my friends curate their Instagram posts and it is usually after a busy day or a weekend/ monthly photo dump. I will use this data to help figure out the timing of when I am on Instagram and the timing of when I comment."
   ]
  },
  {
   "cell_type": "markdown",
   "id": "de29509b-f586-462c-b6b1-5b85697991ac",
   "metadata": {},
   "source": [
    "## section 7\n",
    "I think the post_comments_1.json file will help me test this hypothesis because it shows the comments I have made and when I made them. This will help me test the hypothesis because it will tell me if I comment more in the afternoon than at night."
   ]
  },
  {
   "cell_type": "markdown",
   "id": "acb938ea-a3c1-4ee1-9be3-9d5ef2ce28d6",
   "metadata": {},
   "source": [
    "## section 8"
   ]
  },
  {
   "cell_type": "code",
   "execution_count": 23,
   "id": "d1733287-0323-4062-9907-58115309dc43",
   "metadata": {},
   "outputs": [
    {
     "name": "stdout",
     "output_type": "stream",
     "text": [
      "<class 'list'>\n",
      "[{'media_list_data': [{'uri': ''}], 'string_map_data': {'Comment': {'value': 'okay baddieee'}, 'Media Owner': {'value': 'prettyplsarii'}, 'Time': {'timestamp': 1756089602}}}, {'media_list_data': [{'uri': ''}], 'string_map_data': {'Comment': {'value': 'the green bob suits you well'}, 'Media Owner': {'value': 'haylea_edwards'}, 'Time': {'timestamp': 1755567788}}}, {'media_list_data': [{'uri': ''}], 'string_map_data': {'Comment': {'value': 'love you so much'}, 'Media Owner': {'value': 'haylea_edwards'}, 'Time': {'timestamp': 1755567758}}}, {'media_list_data': [{'uri': ''}], 'string_map_data': {'Comment': {'value': 'fav sorority girl'}, 'Media Owner': {'value': 'haylea_edwards'}, 'Time': {'timestamp': 1755567754}}}, {'media_list_data': [{'uri': ''}], 'string_map_data': {'Comment': {'value': 'my roomie is the most prettiest'}, 'Media Owner': {'value': 'haylea_edwards'}, 'Time': {'timestamp': 1755567750}}}, {'media_list_data': [{'uri': ''}], 'string_map_data': {'Comment': {'value': 'youâ\\x80\\x99re so pretty'}, 'Media Owner': {'value': '_saidalewis'}, 'Time': {'timestamp': 1754786428}}}, {'media_list_data': [{'uri': ''}], 'string_map_data': {'Comment': {'value': 'hotttt'}, 'Media Owner': {'value': 'prettyplsarii'}, 'Time': {'timestamp': 1754776723}}}, {'media_list_data': [{'uri': ''}], 'string_map_data': {'Comment': {'value': 'iâ\\x80\\x99m in awe of you'}, 'Media Owner': {'value': 'haylea_edwards'}, 'Time': {'timestamp': 1754146950}}}, {'media_list_data': [{'uri': ''}], 'string_map_data': {'Comment': {'value': 'youâ\\x80\\x99re so pretty, haylea'}, 'Media Owner': {'value': 'haylea_edwards'}, 'Time': {'timestamp': 1754146946}}}, {'media_list_data': [{'uri': ''}], 'string_map_data': {'Comment': {'value': 'k e dollar sign ha'}, 'Media Owner': {'value': 'erindingler'}, 'Time': {'timestamp': 1753819436}}}, {'media_list_data': [{'uri': ''}], 'string_map_data': {'Comment': {'value': 'the water ainâ\\x80\\x99t the only thing thatâ\\x80\\x99s wet'}, 'Media Owner': {'value': 'madison.vayle'}, 'Time': {'timestamp': 1753494546}}}, {'media_list_data': [{'uri': ''}], 'string_map_data': {'Comment': {'value': 'miss you sm'}, 'Media Owner': {'value': 'madison.vayle'}, 'Time': {'timestamp': 1753494525}}}, {'media_list_data': [{'uri': ''}], 'string_map_data': {'Comment': {'value': 'thatâ\\x80\\x99s my bff'}, 'Media Owner': {'value': 'madison.vayle'}, 'Time': {'timestamp': 1753494523}}}, {'media_list_data': [{'uri': ''}], 'string_map_data': {'Comment': {'value': 'gorg'}, 'Media Owner': {'value': 'madison.vayle'}, 'Time': {'timestamp': 1753494518}}}, {'media_list_data': [{'uri': ''}], 'string_map_data': {'Comment': {'value': 'i see that 1d shirt'}, 'Media Owner': {'value': 'erindingler'}, 'Time': {'timestamp': 1753465044}}}, {'media_list_data': [{'uri': ''}], 'string_map_data': {'Comment': {'value': 'miss you sm'}, 'Media Owner': {'value': 'stella.naymik'}, 'Time': {'timestamp': 1752855469}}}, {'media_list_data': [{'uri': ''}], 'string_map_data': {'Comment': {'value': 'gorgeous gal'}, 'Media Owner': {'value': 'haylea_edwards'}, 'Time': {'timestamp': 1752339227}}}, {'media_list_data': [{'uri': ''}], 'string_map_data': {'Comment': {'value': 'the sunset glow eats'}, 'Media Owner': {'value': 'haylea_edwards'}, 'Time': {'timestamp': 1752339220}}}, {'media_list_data': [{'uri': ''}], 'string_map_data': {'Comment': {'value': 'youâ\\x80\\x99re the view'}, 'Media Owner': {'value': 'haylea_edwards'}, 'Time': {'timestamp': 1752339204}}}, {'media_list_data': [{'uri': ''}], 'string_map_data': {'Comment': {'value': 'GIBBY!!!'}, 'Media Owner': {'value': 'madison.vayle'}, 'Time': {'timestamp': 1751750127}}}, {'media_list_data': [{'uri': ''}], 'string_map_data': {'Comment': {'value': 'miss you sm'}, 'Media Owner': {'value': 'morgan.ber_'}, 'Time': {'timestamp': 1751159909}}}, {'media_list_data': [{'uri': ''}], 'string_map_data': {'Comment': {'value': 'pretty girl'}, 'Media Owner': {'value': 'morgan.ber_'}, 'Time': {'timestamp': 1751159907}}}, {'media_list_data': [{'uri': ''}], 'string_map_data': {'Comment': {'value': 'such cuties you guys are'}, 'Media Owner': {'value': 'pobbylobby_'}, 'Time': {'timestamp': 1750369719}}}, {'media_list_data': [{'uri': ''}], 'string_map_data': {'Comment': {'value': 'miss you sm'}, 'Media Owner': {'value': 'sstaecey'}, 'Time': {'timestamp': 1749859812}}}, {'media_list_data': [{'uri': ''}], 'string_map_data': {'Comment': {'value': 'so pretty'}, 'Media Owner': {'value': 'sstaecey'}, 'Time': {'timestamp': 1749859809}}}, {'media_list_data': [{'uri': ''}], 'string_map_data': {'Comment': {'value': 'my favs'}, 'Media Owner': {'value': 'madison.vayle'}, 'Time': {'timestamp': 1749686035}}}, {'media_list_data': [{'uri': ''}], 'string_map_data': {'Comment': {'value': 'my favorite girls ever'}, 'Media Owner': {'value': 'jpeshoff'}, 'Time': {'timestamp': 1749610981}}}, {'media_list_data': [{'uri': ''}], 'string_map_data': {'Comment': {'value': 'shoutout the harmonica'}, 'Media Owner': {'value': 'christina_stover23'}, 'Time': {'timestamp': 1748920564}}}, {'media_list_data': [{'uri': ''}], 'string_map_data': {'Comment': {'value': 'PRETTY GIRLLL'}, 'Media Owner': {'value': 'madison.vayle'}, 'Time': {'timestamp': 1748888850}}}, {'media_list_data': [{'uri': ''}], 'string_map_data': {'Comment': {'value': 'cuties!'}, 'Media Owner': {'value': 'jpeshoff'}, 'Time': {'timestamp': 1748270457}}}, {'media_list_data': [{'uri': ''}], 'string_map_data': {'Comment': {'value': 'i miss you so muchhh'}, 'Media Owner': {'value': 'paris.adel.foster'}, 'Time': {'timestamp': 1747948346}}}, {'media_list_data': [{'uri': ''}], 'string_map_data': {'Comment': {'value': 'bye bye maya'}, 'Media Owner': {'value': 'maya_c42'}, 'Time': {'timestamp': 1746825964}}}, {'media_list_data': [{'uri': ''}], 'string_map_data': {'Comment': {'value': 'what a cutie!!'}, 'Media Owner': {'value': 'mia_watkins05'}, 'Time': {'timestamp': 1746814191}}}, {'media_list_data': [{'uri': ''}], 'string_map_data': {'Comment': {'value': 'take naps but stay woke!!!'}, 'Media Owner': {'value': 'oliviarain13'}, 'Time': {'timestamp': 1746798073}}}, {'media_list_data': [{'uri': ''}], 'string_map_data': {'Comment': {'value': 'iâ\\x80\\x99ll miss you'}, 'Media Owner': {'value': 'haylea_edwards'}, 'Time': {'timestamp': 1746719709}}}, {'media_list_data': [{'uri': ''}], 'string_map_data': {'Comment': {'value': 'ice skating exhibition goes hard ð\\x9f\\x94¥ð\\x9f\\x94¥'}, 'Media Owner': {'value': 'christina_stover23'}, 'Time': {'timestamp': 1746323983}}}, {'media_list_data': [{'uri': ''}], 'string_map_data': {'Comment': {'value': 'so personalized!'}, 'Media Owner': {'value': 'beans_the_panda_pug'}, 'Time': {'timestamp': 1746115808}}}, {'media_list_data': [{'uri': ''}], 'string_map_data': {'Comment': {'value': 'the prettiest girl'}, 'Media Owner': {'value': 'scarletttpeshoff'}, 'Time': {'timestamp': 1745866013}}}, {'media_list_data': [{'uri': ''}], 'string_map_data': {'Comment': {'value': 'they look so cute!!!'}, 'Media Owner': {'value': 'beans_the_panda_pug'}, 'Time': {'timestamp': 1745614950}}}, {'media_list_data': [{'uri': ''}], 'string_map_data': {'Comment': {'value': 'morgan, iâ\\x80\\x99m so proud of you'}, 'Media Owner': {'value': 'morgan.dem_'}, 'Time': {'timestamp': 1745503107}}}, {'media_list_data': [{'uri': ''}], 'string_map_data': {'Comment': {'value': 'YAYAYAY'}, 'Media Owner': {'value': 'morgan.dem_'}, 'Time': {'timestamp': 1745503099}}}, {'media_list_data': [{'uri': ''}], 'string_map_data': {'Comment': {'value': 'what a handsome little dog'}, 'Media Owner': {'value': 'beans_the_panda_pug'}, 'Time': {'timestamp': 1745332484}}}, {'media_list_data': [{'uri': ''}], 'string_map_data': {'Comment': {'value': 'keep cool boy'}, 'Media Owner': {'value': 'gobstopperoftheevening'}, 'Time': {'timestamp': 1744729957}}}, {'media_list_data': [{'uri': ''}], 'string_map_data': {'Comment': {'value': 'omg, bailey, youâ\\x80\\x99re so pretty'}, 'Media Owner': {'value': 'baileyyfair'}, 'Time': {'timestamp': 1744688019}}}, {'media_list_data': [{'uri': ''}], 'string_map_data': {'Comment': {'value': 'ð\\x9f\\x98\\x9bð\\x9f\\x98\\x9b'}, 'Media Owner': {'value': 'sstaecey'}, 'Time': {'timestamp': 1744652672}}}, {'media_list_data': [{'uri': ''}], 'string_map_data': {'Comment': {'value': 'ð\\x9f¤¤ð\\x9f¤¤'}, 'Media Owner': {'value': 'sstaecey'}, 'Time': {'timestamp': 1744652664}}}, {'media_list_data': [{'uri': ''}], 'string_map_data': {'Comment': {'value': 'ily'}, 'Media Owner': {'value': 'sstaecey'}, 'Time': {'timestamp': 1744652659}}}, {'media_list_data': [{'uri': ''}], 'string_map_data': {'Comment': {'value': 'gorgeous'}, 'Media Owner': {'value': 'sstaecey'}, 'Time': {'timestamp': 1744652656}}}, {'media_list_data': [{'uri': ''}], 'string_map_data': {'Comment': {'value': 'marry me'}, 'Media Owner': {'value': 'sstaecey'}, 'Time': {'timestamp': 1744652649}}}, {'media_list_data': [{'uri': ''}], 'string_map_data': {'Comment': {'value': 'iâ\\x80\\x99m in awe'}, 'Media Owner': {'value': 'sstaecey'}, 'Time': {'timestamp': 1744652633}}}, {'media_list_data': [{'uri': ''}], 'string_map_data': {'Comment': {'value': 'those flowers are jealous of how pretty you look'}, 'Media Owner': {'value': 'sstaecey'}, 'Time': {'timestamp': 1744652610}}}, {'media_list_data': [{'uri': ''}], 'string_map_data': {'Comment': {'value': 'i need sunglasses because of how bright that smile is'}, 'Media Owner': {'value': 'sstaecey'}, 'Time': {'timestamp': 1744652582}}}, {'media_list_data': [{'uri': ''}], 'string_map_data': {'Comment': {'value': 'who is that dime'}, 'Media Owner': {'value': 'sstaecey'}, 'Time': {'timestamp': 1744652564}}}, {'media_list_data': [{'uri': ''}], 'string_map_data': {'Comment': {'value': 'pretty girl'}, 'Media Owner': {'value': 'sstaecey'}, 'Time': {'timestamp': 1744652548}}}, {'media_list_data': [{'uri': ''}], 'string_map_data': {'Comment': {'value': 'okay divaaaaa'}, 'Media Owner': {'value': '3xclusivly_gavenlee'}, 'Time': {'timestamp': 1743726451}}}, {'media_list_data': [{'uri': ''}], 'string_map_data': {'Comment': {'value': 'mom and mom'}, 'Media Owner': {'value': 'abby.dabby06'}, 'Time': {'timestamp': 1743638309}}}, {'media_list_data': [{'uri': ''}], 'string_map_data': {'Comment': {'value': 'fav sorority girl'}, 'Media Owner': {'value': 'haylea_edwards'}, 'Time': {'timestamp': 1743365418}}}, {'media_list_data': [{'uri': ''}], 'string_map_data': {'Comment': {'value': 'my fav jersey mikes employee'}, 'Media Owner': {'value': 'haylea_edwards'}, 'Time': {'timestamp': 1743365410}}}, {'media_list_data': [{'uri': ''}], 'string_map_data': {'Comment': {'value': 'miss you so much'}, 'Media Owner': {'value': 'haylea_edwards'}, 'Time': {'timestamp': 1743360793}}}, {'media_list_data': [{'uri': ''}], 'string_map_data': {'Comment': {'value': 'so aesthetic'}, 'Media Owner': {'value': 'haylea_edwards'}, 'Time': {'timestamp': 1743360785}}}, {'media_list_data': [{'uri': ''}], 'string_map_data': {'Comment': {'value': 'stunning'}, 'Media Owner': {'value': 'haylea_edwards'}, 'Time': {'timestamp': 1743360775}}}, {'media_list_data': [{'uri': ''}], 'string_map_data': {'Comment': {'value': 'ilysm'}, 'Media Owner': {'value': 'haylea_edwards'}, 'Time': {'timestamp': 1743360773}}}, {'media_list_data': [{'uri': ''}], 'string_map_data': {'Comment': {'value': 'PRETTY GIRLLLL'}, 'Media Owner': {'value': 'haylea_edwards'}, 'Time': {'timestamp': 1743360770}}}, {'media_list_data': [{'uri': ''}], 'string_map_data': {'Comment': {'value': 'theslap.com'}, 'Media Owner': {'value': 'madisonvaylepeanits'}, 'Time': {'timestamp': 1743199967}}}, {'media_list_data': [{'uri': ''}], 'string_map_data': {'Comment': {'value': 'omg is that abbydabby06'}, 'Media Owner': {'value': 'abby.irwin_'}, 'Time': {'timestamp': 1742769802}}}, {'media_list_data': [{'uri': ''}], 'string_map_data': {'Comment': {'value': 'what an angel'}, 'Media Owner': {'value': 'fairysp3ll'}, 'Time': {'timestamp': 1742421947}}}, {'media_list_data': [{'uri': ''}], 'string_map_data': {'Comment': {'value': 'lexi, this is the cutest thing ever ð\\x9f\\x92\\x97ð\\x9f\\x92\\x97'}, 'Media Owner': {'value': 'alexiaahoude'}, 'Time': {'timestamp': 1742266492}}}, {'media_list_data': [{'uri': ''}], 'string_map_data': {'Comment': {'value': 'youâ\\x80\\x99re so pretty aashna'}, 'Media Owner': {'value': 'ashes_59'}, 'Time': {'timestamp': 1742184111}}}, {'media_list_data': [{'uri': ''}], 'string_map_data': {'Comment': {'value': 'face card never declines'}, 'Media Owner': {'value': 'madison.vayle'}, 'Time': {'timestamp': 1742093341}}}, {'media_list_data': [{'uri': ''}], 'string_map_data': {'Comment': {'value': 'HAWK'}, 'Media Owner': {'value': 'memebobmobile'}, 'Time': {'timestamp': 1741472807}}}, {'media_list_data': [{'uri': ''}], 'string_map_data': {'Comment': {'value': 'WHEN I SAY HAWK, YOU SAY TUAH'}, 'Media Owner': {'value': 'memebobmobile'}, 'Time': {'timestamp': 1741472805}}}, {'media_list_data': [{'uri': ''}], 'string_map_data': {'Comment': {'value': 'not tagging me is wild behavior'}, 'Media Owner': {'value': 'christina_stover23'}, 'Time': {'timestamp': 1740886282}}}, {'media_list_data': [{'uri': ''}], 'string_map_data': {'Comment': {'value': 'robbers is my absolute fav'}, 'Media Owner': {'value': 'abby.irwin_'}, 'Time': {'timestamp': 1739663672}}}, {'media_list_data': [{'uri': ''}], 'string_map_data': {'Comment': {'value': 'THE LAST PHOTO'}, 'Media Owner': {'value': 'pobbylobby_'}, 'Time': {'timestamp': 1739423679}}}, {'media_list_data': [{'uri': ''}], 'string_map_data': {'Comment': {'value': 'eating like always'}, 'Media Owner': {'value': 'alexiaahoude'}, 'Time': {'timestamp': 1738169673}}}, {'media_list_data': [{'uri': ''}], 'string_map_data': {'Comment': {'value': 'so thatâ\\x80\\x99s why you were in columbus'}, 'Media Owner': {'value': 'christina_stover23'}, 'Time': {'timestamp': 1738088178}}}, {'media_list_data': [{'uri': ''}], 'string_map_data': {'Comment': {'value': '@gudetama_worshipper'}, 'Media Owner': {'value': 'the_fruit_stand_ohio'}, 'Time': {'timestamp': 1737990904}}}, {'media_list_data': [{'uri': ''}], 'string_map_data': {'Comment': {'value': 'fine line is actually gut wrenching'}, 'Media Owner': {'value': 'madison.vayle'}, 'Time': {'timestamp': 1737937910}}}, {'media_list_data': [{'uri': ''}], 'string_map_data': {'Comment': {'value': 'THE PHOTO OF ME WIPING THE WINDOWS IS FOULLL'}, 'Media Owner': {'value': 'autumncauldron'}, 'Time': {'timestamp': 1735924420}}}, {'media_list_data': [{'uri': ''}], 'string_map_data': {'Comment': {'value': 'photo creds where'}, 'Media Owner': {'value': 'christina_stover23'}, 'Time': {'timestamp': 1734993019}}}, {'media_list_data': [{'uri': ''}], 'string_map_data': {'Comment': {'value': 'FERRIS!!'}, 'Media Owner': {'value': 'peanutbuttercoloured'}, 'Time': {'timestamp': 1734399486}}}, {'media_list_data': [{'uri': ''}], 'string_map_data': {'Comment': {'value': 'the final pic is my favorite'}, 'Media Owner': {'value': 'erindingler'}, 'Time': {'timestamp': 1730778182}}}, {'media_list_data': [{'uri': ''}], 'string_map_data': {'Comment': {'value': 'WAS THIS DUSSEL'}, 'Media Owner': {'value': 'peanutbuttercoloured'}, 'Time': {'timestamp': 1730145353}}}, {'media_list_data': [{'uri': ''}], 'string_map_data': {'Comment': {'value': 'i love YOU so much'}, 'Media Owner': {'value': 'ashes_59'}, 'Time': {'timestamp': 1730060576}}}, {'media_list_data': [{'uri': ''}], 'string_map_data': {'Comment': {'value': 'SO PROUD OF YOU LEXI!!!'}, 'Media Owner': {'value': 'ksufigureskating'}, 'Time': {'timestamp': 1729879647}}}, {'media_list_data': [{'uri': ''}], 'string_map_data': {'Comment': {'value': '@christina_stover23 same'}, 'Media Owner': {'value': 'louist91'}, 'Time': {'timestamp': 1729289171}}}, {'media_list_data': [{'uri': ''}], 'string_map_data': {'Comment': {'value': 'i knew that was winking lizard'}, 'Media Owner': {'value': 'bartonseniorcenter'}, 'Time': {'timestamp': 1729087593}}}, {'media_list_data': [{'uri': ''}], 'string_map_data': {'Comment': {'value': 'not jesus doing the so julia dti pose ð\\x9f\\x98\\xadð\\x9f\\x98\\xad'}, 'Media Owner': {'value': 'mac_e_123'}, 'Time': {'timestamp': 1727920271}}}, {'media_list_data': [{'uri': ''}], 'string_map_data': {'Comment': {'value': 'Wait but like, why am I actually crying'}, 'Media Owner': {'value': 'christina_stover23'}, 'Time': {'timestamp': 1724906249}}}, {'media_list_data': [{'uri': ''}], 'string_map_data': {'Comment': {'value': 'I was such a cute little baby and toddler'}, 'Media Owner': {'value': 'christina_stover23'}, 'Time': {'timestamp': 1724906169}}}, {'media_list_data': [{'uri': ''}], 'string_map_data': {'Comment': {'value': 'WE CAN PLAY BARBIES AT MY BIRTHDAY PARTY PLEASEEEE'}, 'Media Owner': {'value': 'christina_stover23'}, 'Time': {'timestamp': 1724906133}}}, {'media_list_data': [{'uri': ''}], 'string_map_data': {'Comment': {'value': 'I LOVE THE REFRENCES'}, 'Media Owner': {'value': 'christina_stover23'}, 'Time': {'timestamp': 1724697056}}}]\n"
     ]
    }
   ],
   "source": [
    "import json\n",
    "\n",
    "file_path = \"/Users/jenna/Desktop/instagram-jennastover-2025-08-25-Z3BhFak8/your_instagram_activity/comments/post_comments_1.json\"\n",
    "\n",
    "with open(file_path, \"r\") as file:\n",
    "    data = json.load(file)\n",
    "print(type(data))\n",
    "print(data)\n"
   ]
  },
  {
   "cell_type": "markdown",
   "id": "f61376a9-b3a2-46d9-8539-e4c56a4893b9",
   "metadata": {},
   "source": [
    "## section 9"
   ]
  },
  {
   "cell_type": "code",
   "execution_count": 29,
   "id": "c67c60a2-2b32-4c4b-9acb-a3d893be8b6c",
   "metadata": {},
   "outputs": [
    {
     "data": {
      "text/html": [
       "<div>\n",
       "<style scoped>\n",
       "    .dataframe tbody tr th:only-of-type {\n",
       "        vertical-align: middle;\n",
       "    }\n",
       "\n",
       "    .dataframe tbody tr th {\n",
       "        vertical-align: top;\n",
       "    }\n",
       "\n",
       "    .dataframe thead th {\n",
       "        text-align: right;\n",
       "    }\n",
       "</style>\n",
       "<table border=\"1\" class=\"dataframe\">\n",
       "  <thead>\n",
       "    <tr style=\"text-align: right;\">\n",
       "      <th></th>\n",
       "      <th>Comment</th>\n",
       "      <th>Media Owner</th>\n",
       "      <th>Timestamp</th>\n",
       "    </tr>\n",
       "  </thead>\n",
       "  <tbody>\n",
       "    <tr>\n",
       "      <th>0</th>\n",
       "      <td>okay baddieee</td>\n",
       "      <td>prettyplsarii</td>\n",
       "      <td>1756089602</td>\n",
       "    </tr>\n",
       "    <tr>\n",
       "      <th>1</th>\n",
       "      <td>the green bob suits you well</td>\n",
       "      <td>haylea_edwards</td>\n",
       "      <td>1755567788</td>\n",
       "    </tr>\n",
       "    <tr>\n",
       "      <th>2</th>\n",
       "      <td>love you so much</td>\n",
       "      <td>haylea_edwards</td>\n",
       "      <td>1755567758</td>\n",
       "    </tr>\n",
       "    <tr>\n",
       "      <th>3</th>\n",
       "      <td>fav sorority girl</td>\n",
       "      <td>haylea_edwards</td>\n",
       "      <td>1755567754</td>\n",
       "    </tr>\n",
       "    <tr>\n",
       "      <th>4</th>\n",
       "      <td>my roomie is the most prettiest</td>\n",
       "      <td>haylea_edwards</td>\n",
       "      <td>1755567750</td>\n",
       "    </tr>\n",
       "    <tr>\n",
       "      <th>5</th>\n",
       "      <td>youâre so pretty</td>\n",
       "      <td>_saidalewis</td>\n",
       "      <td>1754786428</td>\n",
       "    </tr>\n",
       "    <tr>\n",
       "      <th>6</th>\n",
       "      <td>hotttt</td>\n",
       "      <td>prettyplsarii</td>\n",
       "      <td>1754776723</td>\n",
       "    </tr>\n",
       "    <tr>\n",
       "      <th>7</th>\n",
       "      <td>iâm in awe of you</td>\n",
       "      <td>haylea_edwards</td>\n",
       "      <td>1754146950</td>\n",
       "    </tr>\n",
       "    <tr>\n",
       "      <th>8</th>\n",
       "      <td>youâre so pretty, haylea</td>\n",
       "      <td>haylea_edwards</td>\n",
       "      <td>1754146946</td>\n",
       "    </tr>\n",
       "    <tr>\n",
       "      <th>9</th>\n",
       "      <td>k e dollar sign ha</td>\n",
       "      <td>erindingler</td>\n",
       "      <td>1753819436</td>\n",
       "    </tr>\n",
       "    <tr>\n",
       "      <th>10</th>\n",
       "      <td>the water ainât the only thing thatâs wet</td>\n",
       "      <td>madison.vayle</td>\n",
       "      <td>1753494546</td>\n",
       "    </tr>\n",
       "    <tr>\n",
       "      <th>11</th>\n",
       "      <td>miss you sm</td>\n",
       "      <td>madison.vayle</td>\n",
       "      <td>1753494525</td>\n",
       "    </tr>\n",
       "    <tr>\n",
       "      <th>12</th>\n",
       "      <td>thatâs my bff</td>\n",
       "      <td>madison.vayle</td>\n",
       "      <td>1753494523</td>\n",
       "    </tr>\n",
       "    <tr>\n",
       "      <th>13</th>\n",
       "      <td>gorg</td>\n",
       "      <td>madison.vayle</td>\n",
       "      <td>1753494518</td>\n",
       "    </tr>\n",
       "    <tr>\n",
       "      <th>14</th>\n",
       "      <td>i see that 1d shirt</td>\n",
       "      <td>erindingler</td>\n",
       "      <td>1753465044</td>\n",
       "    </tr>\n",
       "  </tbody>\n",
       "</table>\n",
       "</div>"
      ],
      "text/plain": [
       "                                          Comment     Media Owner   Timestamp\n",
       "0                                   okay baddieee   prettyplsarii  1756089602\n",
       "1                    the green bob suits you well  haylea_edwards  1755567788\n",
       "2                                love you so much  haylea_edwards  1755567758\n",
       "3                               fav sorority girl  haylea_edwards  1755567754\n",
       "4                 my roomie is the most prettiest  haylea_edwards  1755567750\n",
       "5                              youâre so pretty     _saidalewis  1754786428\n",
       "6                                          hotttt   prettyplsarii  1754776723\n",
       "7                             iâm in awe of you  haylea_edwards  1754146950\n",
       "8                      youâre so pretty, haylea  haylea_edwards  1754146946\n",
       "9                              k e dollar sign ha     erindingler  1753819436\n",
       "10  the water ainât the only thing thatâs wet   madison.vayle  1753494546\n",
       "11                                    miss you sm   madison.vayle  1753494525\n",
       "12                                thatâs my bff   madison.vayle  1753494523\n",
       "13                                           gorg   madison.vayle  1753494518\n",
       "14                            i see that 1d shirt     erindingler  1753465044"
      ]
     },
     "execution_count": 29,
     "metadata": {},
     "output_type": "execute_result"
    }
   ],
   "source": [
    "import pandas as pd\n",
    "\n",
    "rows = []\n",
    "for entry in data:\n",
    "    comment = entry[\"string_map_data\"][\"Comment\"][\"value\"]\n",
    "    owner = entry[\"string_map_data\"][\"Media Owner\"][\"value\"]\n",
    "    timestamp = entry[\"string_map_data\"][\"Time\"][\"timestamp\"]\n",
    "    rows.append({\"Comment\": comment, \"Media Owner\": owner, \"Timestamp\": timestamp})\n",
    "\n",
    "df = pd.DataFrame(rows)\n",
    "\n",
    "df.head(15)"
   ]
  },
  {
   "cell_type": "markdown",
   "id": "7f0756a9-5b06-4a66-af8b-d59c3be52289",
   "metadata": {},
   "source": [
    "## section 10\n"
   ]
  },
  {
   "cell_type": "markdown",
   "id": "0720e448-c994-48ba-ba08-fd4c64157850",
   "metadata": {},
   "source": [
    "The data can NOT test my hypothesis because it does not show the time of when I made the comments. The data shows what I have commented but not the timing of when they were commented. This ultimately does NOT prove my hypothesis to be correct or incorrect."
   ]
  },
  {
   "cell_type": "code",
   "execution_count": null,
   "id": "a190f6c0-528f-4b44-845d-f56f6eae6629",
   "metadata": {},
   "outputs": [],
   "source": []
  }
 ],
 "metadata": {
  "kernelspec": {
   "display_name": "Python 3 (ipykernel)",
   "language": "python",
   "name": "python3"
  },
  "language_info": {
   "codemirror_mode": {
    "name": "ipython",
    "version": 3
   },
   "file_extension": ".py",
   "mimetype": "text/x-python",
   "name": "python",
   "nbconvert_exporter": "python",
   "pygments_lexer": "ipython3",
   "version": "3.13.5"
  }
 },
 "nbformat": 4,
 "nbformat_minor": 5
}
